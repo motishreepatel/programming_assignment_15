{
 "cells": [
  {
   "cell_type": "code",
   "execution_count": 2,
   "metadata": {},
   "outputs": [
    {
     "name": "stdout",
     "output_type": "stream",
     "text": [
      "The result is: 0,35,70\n"
     ]
    }
   ],
   "source": [
    "#Q - Question 1:\n",
    "'''Please write a program using generator to print the numbers which can be divisible by 5 and\n",
    "7 between 0 and n in comma separated form while n is input by console.'''\n",
    "#Answer:\n",
    "def num_divisible_by_5_and_7_generator(n):\n",
    "    for num in range(n+1):\n",
    "        if num%5 == 0 and num%7 == 0:\n",
    "            yield str(num)\n",
    "n = int(input(\"Pls enter a number: \"))\n",
    "numbers = num_divisible_by_5_and_7_generator(n)\n",
    "result = ','.join(numbers)\n",
    "print(\"The result is:\",result)\n"
   ]
  },
  {
   "cell_type": "code",
   "execution_count": 3,
   "metadata": {},
   "outputs": [
    {
     "name": "stdout",
     "output_type": "stream",
     "text": [
      "The result is 0,2,4,6,8,10\n"
     ]
    }
   ],
   "source": [
    "#Q - Question 2:\n",
    "'''Please write a program using generator to print the even numbers between 0 and n in comma\n",
    "separated form while n is input by console.'''\n",
    "#Answer:\n",
    "def print_even_numbers(n):\n",
    "    for num in range(n+1):\n",
    "        if num%2 == 0:\n",
    "            yield str(num)\n",
    "\n",
    "n = int(input(\"Enter a number: \"))\n",
    "numbers = print_even_numbers(n)\n",
    "numbers_with_comma = ','.join(numbers)\n",
    "print(\"The result is\",numbers_with_comma)"
   ]
  },
  {
   "cell_type": "code",
   "execution_count": 5,
   "metadata": {},
   "outputs": [
    {
     "name": "stdout",
     "output_type": "stream",
     "text": [
      "Fibonacci sequence: 0,1,1,2,3,5,8,13\n"
     ]
    }
   ],
   "source": [
    "#Q - Question 3:\n",
    "'''The Fibonacci Sequence is computed based on the following formula:\n",
    "f(n)=0 if n=0\n",
    "f(n)=1 if n=1\n",
    "f(n)=f(n-1)+f(n-2) if n&gt;1\n",
    "Please write a program using list comprehension to print the Fibonacci Sequence in comma\n",
    "separated form with a given n input by console.'''\n",
    "#Answer:\n",
    "n = int(input(\"Enter a number: \"))\n",
    "fibonacci_sequence = [0,1]\n",
    "while len(fibonacci_sequence) < n+1 :\n",
    "    fibonacci_sequence.append(fibonacci_sequence[-1] + fibonacci_sequence[-2])\n",
    "\n",
    "fibonacci_sequence_str = ','.join(map(str,fibonacci_sequence))\n",
    "print(\"Fibonacci sequence:\",fibonacci_sequence_str)\n",
    "\n"
   ]
  },
  {
   "cell_type": "code",
   "execution_count": 7,
   "metadata": {},
   "outputs": [
    {
     "name": "stdout",
     "output_type": "stream",
     "text": [
      "Username of given email address is: john\n"
     ]
    }
   ],
   "source": [
    "#Q - Question 4:\n",
    "'''Assuming that we have some email addresses in the &quot;username@companyname.com&quot; format,\n",
    "please write program to print the user name of a given email address. Both user names and\n",
    "company names are composed of letters only.'''  \n",
    "#Answer:\n",
    "def get_username_from_email(email):\n",
    "    username = email.split(\"@\")[0]\n",
    "    return username\n",
    "\n",
    "email_str = input(\"Enter email address: \")\n",
    "username = get_username_from_email(email_str)\n",
    "print(\"Username of given email address is:\",username)"
   ]
  },
  {
   "cell_type": "code",
   "execution_count": 13,
   "metadata": {},
   "outputs": [
    {
     "name": "stdout",
     "output_type": "stream",
     "text": [
      "Area of the shape is: 0\n",
      "Area of the square is: 25\n"
     ]
    }
   ],
   "source": [
    "#Q - Question 5:\n",
    "'''Define a class named Shape and its subclass Square. The Square class has an init function\n",
    "which takes a length as argument. Both classes have a area function which can print the area\n",
    "of the shape where Shape&#39;s area is 0 by default.'''\n",
    "\n",
    "#Answer:\n",
    "\n",
    "class Shape:\n",
    "    def __init__(self):\n",
    "        self.area = 0\n",
    "\n",
    "    def calculate_area(self):\n",
    "        print(\"Area of the shape is:\", self.area)\n",
    "\n",
    "\n",
    "class Square(Shape):\n",
    "    def __init__(self, length):\n",
    "        super().__init__()\n",
    "        self.length = length\n",
    "\n",
    "    def calculate_area(self):\n",
    "        self.area = self.length ** 2\n",
    "        print(\"Area of the square is:\", self.area)\n",
    "\n",
    "\n",
    "# Example usage\n",
    "shape = Shape()\n",
    "shape.calculate_area()  # Output: Area of the shape is: 0\n",
    "\n",
    "square = Square(5)\n",
    "square.calculate_area()  # Output: Area of the square is: 25\n"
   ]
  },
  {
   "cell_type": "code",
   "execution_count": null,
   "metadata": {},
   "outputs": [],
   "source": []
  }
 ],
 "metadata": {
  "kernelspec": {
   "display_name": "Python 3.9.6 64-bit",
   "language": "python",
   "name": "python3"
  },
  "language_info": {
   "codemirror_mode": {
    "name": "ipython",
    "version": 3
   },
   "file_extension": ".py",
   "mimetype": "text/x-python",
   "name": "python",
   "nbconvert_exporter": "python",
   "pygments_lexer": "ipython3",
   "version": "3.9.6"
  },
  "orig_nbformat": 4,
  "vscode": {
   "interpreter": {
    "hash": "31f2aee4e71d21fbe5cf8b01ff0e069b9275f58929596ceb00d14d90e3e16cd6"
   }
  }
 },
 "nbformat": 4,
 "nbformat_minor": 2
}
